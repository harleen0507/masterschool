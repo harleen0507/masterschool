{
 "cells": [
  {
   "cell_type": "code",
   "execution_count": 19,
   "id": "8247ab0b",
   "metadata": {},
   "outputs": [],
   "source": [
    "import pandas as pd\n",
    "import numpy as np\n",
    "import matplotlib.pyplot as plt\n",
    "import seaborn as sb\n",
    "from scipy.stats import ttest_ind\n",
    "import scipy.stats as stats\n",
    "from math import ceil"
   ]
  },
  {
   "cell_type": "code",
   "execution_count": null,
   "id": "2b2c2846",
   "metadata": {},
   "outputs": [],
   "source": []
  },
  {
   "cell_type": "code",
   "execution_count": 4,
   "id": "39a03d14",
   "metadata": {},
   "outputs": [
    {
     "data": {
      "text/html": [
       "<div>\n",
       "<style scoped>\n",
       "    .dataframe tbody tr th:only-of-type {\n",
       "        vertical-align: middle;\n",
       "    }\n",
       "\n",
       "    .dataframe tbody tr th {\n",
       "        vertical-align: top;\n",
       "    }\n",
       "\n",
       "    .dataframe thead th {\n",
       "        text-align: right;\n",
       "    }\n",
       "</style>\n",
       "<table border=\"1\" class=\"dataframe\">\n",
       "  <thead>\n",
       "    <tr style=\"text-align: right;\">\n",
       "      <th></th>\n",
       "      <th>id</th>\n",
       "      <th>country</th>\n",
       "      <th>gender</th>\n",
       "      <th>test_group</th>\n",
       "      <th>device</th>\n",
       "      <th>total_spent</th>\n",
       "      <th>converted</th>\n",
       "    </tr>\n",
       "  </thead>\n",
       "  <tbody>\n",
       "    <tr>\n",
       "      <th>0</th>\n",
       "      <td>1026770</td>\n",
       "      <td>GBR</td>\n",
       "      <td>M</td>\n",
       "      <td>B</td>\n",
       "      <td>A</td>\n",
       "      <td>0.0</td>\n",
       "      <td>0</td>\n",
       "    </tr>\n",
       "    <tr>\n",
       "      <th>1</th>\n",
       "      <td>1049383</td>\n",
       "      <td>BRA</td>\n",
       "      <td>M</td>\n",
       "      <td>A</td>\n",
       "      <td>A</td>\n",
       "      <td>0.0</td>\n",
       "      <td>0</td>\n",
       "    </tr>\n",
       "    <tr>\n",
       "      <th>2</th>\n",
       "      <td>1018761</td>\n",
       "      <td>USA</td>\n",
       "      <td>NaN</td>\n",
       "      <td>B</td>\n",
       "      <td>I</td>\n",
       "      <td>0.0</td>\n",
       "      <td>0</td>\n",
       "    </tr>\n",
       "    <tr>\n",
       "      <th>3</th>\n",
       "      <td>1014528</td>\n",
       "      <td>MEX</td>\n",
       "      <td>F</td>\n",
       "      <td>A</td>\n",
       "      <td>A</td>\n",
       "      <td>0.0</td>\n",
       "      <td>0</td>\n",
       "    </tr>\n",
       "    <tr>\n",
       "      <th>4</th>\n",
       "      <td>1005376</td>\n",
       "      <td>ESP</td>\n",
       "      <td>F</td>\n",
       "      <td>A</td>\n",
       "      <td>A</td>\n",
       "      <td>0.0</td>\n",
       "      <td>0</td>\n",
       "    </tr>\n",
       "  </tbody>\n",
       "</table>\n",
       "</div>"
      ],
      "text/plain": [
       "        id country gender test_group device  total_spent  converted\n",
       "0  1026770     GBR      M          B      A          0.0          0\n",
       "1  1049383     BRA      M          A      A          0.0          0\n",
       "2  1018761     USA    NaN          B      I          0.0          0\n",
       "3  1014528     MEX      F          A      A          0.0          0\n",
       "4  1005376     ESP      F          A      A          0.0          0"
      ]
     },
     "execution_count": 4,
     "metadata": {},
     "output_type": "execute_result"
    }
   ],
   "source": [
    "ab = pd.read_csv(r'C:\\Users\\YUVRA\\Desktop\\HarleenGlobox.csv')\n",
    "ab.head()"
   ]
  },
  {
   "cell_type": "code",
   "execution_count": 5,
   "id": "bc7b63af",
   "metadata": {},
   "outputs": [
    {
     "name": "stdout",
     "output_type": "stream",
     "text": [
      "<class 'pandas.core.frame.DataFrame'>\n",
      "RangeIndex: 48943 entries, 0 to 48942\n",
      "Data columns (total 7 columns):\n",
      " #   Column       Non-Null Count  Dtype  \n",
      "---  ------       --------------  -----  \n",
      " 0   id           48943 non-null  int64  \n",
      " 1   country      48300 non-null  object \n",
      " 2   gender       42088 non-null  object \n",
      " 3   test_group   48943 non-null  object \n",
      " 4   device       48649 non-null  object \n",
      " 5   total_spent  48943 non-null  float64\n",
      " 6   converted    48943 non-null  int64  \n",
      "dtypes: float64(1), int64(2), object(4)\n",
      "memory usage: 2.6+ MB\n"
     ]
    }
   ],
   "source": [
    "ab.info()   "
   ]
  },
  {
   "cell_type": "code",
   "execution_count": 6,
   "id": "0ee0983c",
   "metadata": {},
   "outputs": [
    {
     "name": "stdout",
     "output_type": "stream",
     "text": [
      "There are 0 users that appear multiple times in the dataset\n"
     ]
    }
   ],
   "source": [
    "clean_dat = ab.copy()\n",
    "data_count = clean_dat['id'].value_counts(ascending = False)\n",
    "duplicate = data_count[data_count > 1].count()\n",
    "print(f'There are {duplicate} users that appear multiple times in the dataset')"
   ]
  },
  {
   "cell_type": "code",
   "execution_count": 7,
   "id": "50245175",
   "metadata": {},
   "outputs": [
    {
     "name": "stdout",
     "output_type": "stream",
     "text": [
      "<class 'pandas.core.frame.DataFrame'>\n",
      "RangeIndex: 48943 entries, 0 to 48942\n",
      "Data columns (total 7 columns):\n",
      " #   Column       Non-Null Count  Dtype  \n",
      "---  ------       --------------  -----  \n",
      " 0   id           48943 non-null  int64  \n",
      " 1   country      48300 non-null  object \n",
      " 2   gender       42088 non-null  object \n",
      " 3   test_group   48943 non-null  object \n",
      " 4   device       48649 non-null  object \n",
      " 5   total_spent  48943 non-null  float64\n",
      " 6   converted    48943 non-null  int64  \n",
      "dtypes: float64(1), int64(2), object(4)\n",
      "memory usage: 2.6+ MB\n",
      "None\n"
     ]
    }
   ],
   "source": [
    "clean_ab = df = clean_dat.drop(clean_dat[clean_dat.duplicated(subset='id')].index)\n",
    "print(clean_ab.info())"
   ]
  },
  {
   "cell_type": "markdown",
   "id": "1105af8f",
   "metadata": {},
   "source": [
    "# Convertion Rate\n",
    "In order to gain insight from the same, I'll run some basic statistics and know what the sample looks like."
   ]
  },
  {
   "cell_type": "markdown",
   "id": "b44cd3f9",
   "metadata": {},
   "source": [
    "# Calculating convertion rate.\n",
    "conversion_rates = clean_ab.groupby('test_group')['total_spent'].apply(lambda x: (x > 0).mean())\n",
    "print(conversion_rates)"
   ]
  },
  {
   "cell_type": "code",
   "execution_count": 12,
   "id": "d2e90c0a",
   "metadata": {},
   "outputs": [
    {
     "name": "stdout",
     "output_type": "stream",
     "text": [
      "test_group\n",
      "A    25.936391\n",
      "B    25.414110\n",
      "Name: total_spent, dtype: float64\n"
     ]
    }
   ],
   "source": [
    "std_deviation = clean_ab.groupby('test_group')['total_spent'].std()\n",
    "print(std_deviation)"
   ]
  },
  {
   "cell_type": "code",
   "execution_count": 13,
   "id": "9c004132",
   "metadata": {},
   "outputs": [
    {
     "name": "stdout",
     "output_type": "stream",
     "text": [
      "test_group\n",
      "A    0.166235\n",
      "B    0.162034\n",
      "Name: total_spent, dtype: float64\n"
     ]
    }
   ],
   "source": [
    "std_error = clean_ab.groupby('test_group')['total_spent'].sem()\n",
    "print(std_error)"
   ]
  },
  {
   "cell_type": "code",
   "execution_count": 14,
   "id": "04770eb5",
   "metadata": {},
   "outputs": [
    {
     "data": {
      "image/png": "[encoded data removed]",
      "text/plain": [
       "<Figure size 800x600 with 1 Axes>"
      ]
     },
     "metadata": {},
     "output_type": "display_data"
    }
   ],
   "source": [
    "plt.figure(figsize=(8,6))\n",
    "conversion_rates.plot(kind='bar')\n",
    "plt.title('Convertion Rate')\n",
    "plt.xlabel('test_Group')\n",
    "plt.ylabel('Convertion Rate')\n",
    "plt.savefig(\"convertionrate.png\")\n",
    "plt.show()"
   ]
  },
  {
   "cell_type": "markdown",
   "id": "194886f7",
   "metadata": {},
   "source": [
    "We can observe from the stats above that the treatment group perform slightly better with approximately 4.63% conversion rate that the control group with 3.92%. However, We have to identify if this results or difference is statistical significant."
   ]
  },
  {
   "cell_type": "code",
   "execution_count": 21,
   "id": "99cae2ab",
   "metadata": {},
   "outputs": [
    {
     "name": "stdout",
     "output_type": "stream",
     "text": [
      "test_group\n",
      "A     955\n",
      "B    1139\n",
      "Name: id, dtype: int64\n"
     ]
    }
   ],
   "source": [
    "#Identifying how many users convert in each group\n",
    "converted = clean_ab[clean_ab['total_spent'] > 0]\n",
    "num_converted = converted.groupby('test_group')['id'].count()\n",
    "print(num_converted)\n"
   ]
  },
  {
   "cell_type": "code",
   "execution_count": 22,
   "id": "d4c0bbd0",
   "metadata": {},
   "outputs": [
    {
     "data": {
      "text/plain": [
       "test_group\n",
       "A    24343\n",
       "B    24600\n",
       "Name: id, dtype: int64"
      ]
     },
     "execution_count": 22,
     "metadata": {},
     "output_type": "execute_result"
    }
   ],
   "source": [
    "# Number of sample in each group\n",
    "clean_ab.groupby('test_group')['id'].count()"
   ]
  },
  {
   "cell_type": "code",
   "execution_count": 23,
   "id": "9e58bd59",
   "metadata": {},
   "outputs": [],
   "source": [
    "# Importing the neccesary modules to work with the normal distribution.\n",
    "import math"
   ]
  },
  {
   "cell_type": "code",
   "execution_count": 24,
   "id": "74fd1ee7",
   "metadata": {},
   "outputs": [
    {
     "name": "stdout",
     "output_type": "stream",
     "text": [
      "Convertion rate control group: 0.0392\n"
     ]
    }
   ],
   "source": [
    "# assigning each value to a variable to make the calculations easier.\n",
    "x_control = 955 # number of users that made a purchase\n",
    "N_control = 24343 # sample size for control group\n",
    "p_hat_control = x_control / N_control # This is the proportion or convertion rate for the control group\n",
    "z_score_A = 1.96\n",
    "print(f\"Convertion rate control group:\", np.round(p_hat_control,4))"
   ]
  },
  {
   "cell_type": "code",
   "execution_count": 25,
   "id": "16908008",
   "metadata": {},
   "outputs": [
    {
     "name": "stdout",
     "output_type": "stream",
     "text": [
      "Control group confidence Interval: (0.0368, 0.0417)\n"
     ]
    }
   ],
   "source": [
    "#Standard error\n",
    "SE_A = math.sqrt(p_hat_control * (1- p_hat_control) / N_control)\n",
    "\n",
    "#Confidence level for control group\n",
    "\n",
    "ci_A = (p_hat_control - z_score_A * SE_A, p_hat_control + z_score_A *  SE_A)\n",
    "print(\"Control group confidence Interval: ({:.4f}, {:.4f})\".format(ci_A[0], ci_A[1]))"
   ]
  },
  {
   "cell_type": "markdown",
   "id": "8f8b6fce",
   "metadata": {},
   "source": [
    "We can observe that the true convertion rate in the control group falls between (0.0368, 0.0417). The convertion rate for the control group is 0.0392, which falls within the confident interval indicating that the sample is representative of the population.\n",
    "\n",
    "Now, let's calculate the confidence interval for the treatment group."
   ]
  },
  {
   "cell_type": "code",
   "execution_count": 26,
   "id": "8ee1f972",
   "metadata": {},
   "outputs": [
    {
     "name": "stdout",
     "output_type": "stream",
     "text": [
      "Convertion rate treatment group: 0.0463\n",
      "Treatment group confidence Interval: (0.0437, 0.0489)\n"
     ]
    }
   ],
   "source": [
    "x_treat = 1139 # number of users that made a purchase in the treatment group\n",
    "N_treat = 24600 # sample size fro treatment group\n",
    "p_hat_treatment = x_treat / N_treat  # This is the proportion or convertion rate for the treatment group\n",
    "z_score_B = 1.96\n",
    "\n",
    "#Standard error\n",
    "SE_B = math.sqrt(p_hat_treatment * (1- p_hat_treatment) / N_treat)\n",
    "\n",
    "#Confidence level for control group\n",
    "\n",
    "ci_B = (p_hat_treatment - z_score_B * SE_B, p_hat_treatment + z_score_B *  SE_B)\n",
    "\n",
    "print(f\"Convertion rate treatment group:\", np.round(p_hat_treatment,4))\n",
    "print(\"Treatment group confidence Interval: ({:.4f}, {:.4f})\".format(ci_B[0], ci_B[1]))"
   ]
  },
  {
   "cell_type": "markdown",
   "id": "72f83281",
   "metadata": {},
   "source": [
    "The convertion rate for the treatment group is 0.0463 which falls within the confidence interval (0.0437, 0.0489) indicating that the sample is representative of the population. However, we still have to calculate the proportion difference to stablish if there is a statistical significance between the proportions."
   ]
  },
  {
   "cell_type": "code",
   "execution_count": 27,
   "id": "8101a395",
   "metadata": {},
   "outputs": [],
   "source": [
    "# Importing the neccesary modules to work with the normal distribution.\n",
    "from scipy.stats import norm"
   ]
  },
  {
   "cell_type": "code",
   "execution_count": 28,
   "id": "7e507a3a",
   "metadata": {},
   "outputs": [
    {
     "name": "stdout",
     "output_type": "stream",
     "text": [
      "reject the null\n",
      "0.0001\n",
      "Test statistics stat:  3.8643\n",
      "Z-Critical score:  1.96\n",
      "P_value;  0.0001\n",
      "Confidence Interval of 2 sample for proportion:  [0.0035 0.0107]\n"
     ]
    }
   ],
   "source": [
    "\n",
    "#Significance level\n",
    "alpha = 0.05\n",
    "\n",
    "# Now, I am going to calculate the proportion of the difference.\n",
    "p_pooled = (x_control + x_treat) / (N_control + N_treat)\n",
    "pooled_variance = p_pooled * (1-p_pooled) * (1/N_control + 1/N_treat) # Variance of the difference of the two groups\n",
    "\n",
    "#Standard of error\n",
    "SE = np.sqrt(pooled_variance)\n",
    "\n",
    "#Test statistists\n",
    "test_stat = (p_hat_treatment - p_hat_control)/ SE\n",
    "\n",
    "# Critical value or z-score using the normal distribution\n",
    "z_score = norm.ppf(1-alpha /2)\n",
    "\n",
    "# Calculating the margin of error\n",
    "ME = SE * z_score\n",
    "\n",
    "#Calculating p-value\n",
    "p_value = norm.sf(test_stat)*2 # We multiply here for 2 because we are using two sided test with normal distribution.\n",
    "\n",
    "# Calculating confidence intervals\n",
    "CI = [(p_hat_treatment - p_hat_control) - SE * z_score, (p_hat_treatment - p_hat_control) + SE * z_score]\n",
    "\n",
    "if np.abs(test_stat) >= z_score:\n",
    "    print(\"reject the null\")\n",
    "    print(np.round(p_value,4))\n",
    "    \n",
    "print(\"Test statistics stat: \", np.round(test_stat,4))\n",
    "print(\"Z-Critical score: \", np.round(z_score,2))\n",
    "print(\"P_value; \", np.round(p_value,4))\n",
    "print(\"Confidence Interval of 2 sample for proportion: \" , np.round(CI,4))"
   ]
  },
  {
   "cell_type": "markdown",
   "id": "20d81534",
   "metadata": {},
   "source": [
    "The test statistics (3.864) is greater than the z-critical score (1.96) and the p-value(0.0001) is less that the significance level of 0.05. This means that we have rejected the null hypothesis (that there is no difference between the proportions of the two groups) and we can conclude that there is a statistically significant difference between the two sample proportions.\n",
    "\n",
    "Additionally, the confidence interval for the difference in proportions (0.0035, 0.0107) does not include zero, which further supports the conclusion that there is a significant difference between the two groups.\n",
    "\n",
    "Now, let's visualize the convertion rate with the standard error."
   ]
  },
  {
   "cell_type": "code",
   "execution_count": 30,
   "id": "3621ab0a",
   "metadata": {},
   "outputs": [
    {
     "data": {
      "image/png": "[encoded data removed]",
      "text/plain": [
       "<Figure size 640x480 with 1 Axes>"
      ]
     },
     "metadata": {},
     "output_type": "display_data"
    }
   ],
   "source": [
    "# Plot for the convertion rate and the standard error for each group.\n",
    "\n",
    "groups = ['Control', 'Treatment']\n",
    "conversion_rates = [p_hat_control, p_hat_treatment]\n",
    "errors = [ME, ME]\n",
    "fig, ax = plt.subplots()\n",
    "y_pos = np.arange(len(groups))\n",
    "ax.barh(y_pos, conversion_rates, xerr=errors, align='center', color='blue')\n",
    "ax.set_yticks(y_pos)\n",
    "ax.set_yticklabels(groups)\n",
    "ax.invert_yaxis()\n",
    "ax.set_xlabel('Conversion Rate')\n",
    "ax.set_title('Comparison of Conversion Rates')\n",
    "plt.axvline(x=0, color='black', linestyle='--')\n",
    "plt.show()"
   ]
  },
  {
   "cell_type": "code",
   "execution_count": 31,
   "id": "838bbaf6",
   "metadata": {},
   "outputs": [
    {
     "data": {
      "image/png": "[encoded data removed]",
      "text/plain": [
       "<Figure size 640x480 with 1 Axes>"
      ]
     },
     "metadata": {},
     "output_type": "display_data"
    }
   ],
   "source": [
    "# visualizing the rejection region\n",
    "\n",
    "z = np.arange(-3, 3, 0.01)\n",
    "plt.plot(z, norm.pdf(z), label='Standard Normal Distribution', color='blue', linewidth=2.5)\n",
    "plt.fill_between(z[z > z_score], norm.pdf(z[z > z_score]), label='Right Rejection Region', color='yellow')\n",
    "plt.fill_between(z[z < -z_score], norm.pdf(z[z < -z_score]), label='Left Rejection Region', color='orange')\n",
    "plt.axvline(x=z_score, color='red', linestyle='--', label='Critical Value')\n",
    "plt.axvline(x=-z_score, color='red', linestyle='--')\n",
    "plt.title(\"Two Sample Z-test Rejection Region\")\n",
    "plt.xlabel('Z-score')\n",
    "plt.ylabel('Density')\n",
    "plt.legend()\n",
    "plt.show()\n"
   ]
  },
  {
   "cell_type": "markdown",
   "id": "5de58e97",
   "metadata": {},
   "source": [
    "The above plot shows rejection region with a standard normal distribution where the rejection region is shaded in yelow and orange,and is separated from the acceptance region by the critical value. This plot also shows PDF of the standard normal distribution, which represents the distribution of the test statistic under the null hypothesis.\n",
    "\n",
    "After analyzing the conversion rate results and rejecting the null hypothesis, we will now proceed to examine the revenue or the average amount spent per user to determine the statistical significance of launching the new feature as part of our A/B testing objectives."
   ]
  },
  {
   "cell_type": "code",
   "execution_count": 34,
   "id": "f5ea774a",
   "metadata": {},
   "outputs": [
    {
     "name": "stdout",
     "output_type": "stream",
     "text": [
      "test_group\n",
      "A    3.374518\n",
      "B    3.390867\n",
      "Name: total_spent, dtype: float64\n"
     ]
    },
    {
     "data": {
      "image/png": "[encoded data removed]",
      "text/plain": [
       "<Figure size 800x600 with 1 Axes>"
      ]
     },
     "metadata": {},
     "output_type": "display_data"
    }
   ],
   "source": [
    "# calculating the average amount spent per user in eahc group. In this calculation I used the origal data since it is an average.\n",
    "# In the proportion since we want to analyze which users actually converte, it was necessary to delete the duplicates.\n",
    "amount_spent_user = ab.groupby(['test_group','id'])['total_spent'].sum().groupby('test_group').mean()\n",
    "print(amount_spent_user)\n",
    "\n",
    "plt.figure(figsize=(8,6))\n",
    "amount_spent_user.plot(kind='bar')\n",
    "plt.title('Average amount spent per user')\n",
    "plt.xlabel('test_group')\n",
    "plt.ylabel('Average')\n",
    "plt.savefig(\"average amount spent per user.png\")\n",
    "plt.show()"
   ]
  },
  {
   "cell_type": "markdown",
   "id": "13d366de",
   "metadata": {},
   "source": [
    "We can observe that the average amount spent per user in group b is slightly higher than group A with 3.391 and 3.375 respectivately. However, we cannot make any conslusions about whether this difference is statistically significant or not yet. So the next step is conduct a hypothesis test and calculate the confidence interval."
   ]
  },
  {
   "cell_type": "code",
   "execution_count": null,
   "id": "e929d181",
   "metadata": {},
   "outputs": [],
   "source": []
  }
 ],
 "metadata": {
  "kernelspec": {
   "display_name": "Python 3 (ipykernel)",
   "language": "python",
   "name": "python3"
  },
  "language_info": {
   "codemirror_mode": {
    "name": "ipython",
    "version": 3
   },
   "file_extension": ".py",
   "mimetype": "text/x-python",
   "name": "python",
   "nbconvert_exporter": "python",
   "pygments_lexer": "ipython3",
   "version": "3.11.5"
  }
 },
 "nbformat": 4,
 "nbformat_minor": 5
}
